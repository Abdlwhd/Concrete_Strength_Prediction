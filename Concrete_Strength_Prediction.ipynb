{
 "cells": [
  {
   "cell_type": "markdown",
   "id": "21d2360f",
   "metadata": {},
   "source": [
    "# Prediction of Concrete Compressive Strength using Multiple Linear Regression\n",
    "### Abdulwahid\n",
    "### 4/21/2022"
   ]
  },
  {
   "cell_type": "markdown",
   "id": "c738b239",
   "metadata": {},
   "source": [
    "## 1. Import Libraries\n",
    "The given libraries contain functions that are requirement to the project"
   ]
  },
  {
   "cell_type": "code",
   "execution_count": 51,
   "id": "d41e1b7f",
   "metadata": {},
   "outputs": [],
   "source": [
    "import numpy as np\n",
    "import pandas as pd\n",
    "from sklearn.linear_model import LinearRegression\n",
    "import matplotlib.pyplot as plt\n",
    "from sklearn.linear_model import Lasso, LogisticRegression\n",
    "from sklearn.feature_selection import SelectFromModel\n",
    "from sklearn.preprocessing import StandardScaler"
   ]
  },
  {
   "cell_type": "markdown",
   "id": "df7036a2",
   "metadata": {},
   "source": [
    "## 2. Load Dataset\n",
    "Using pandas library the dataset is read through the ***read_csv*** function and the ***head*** function is used to read the first five rows."
   ]
  },
  {
   "cell_type": "code",
   "execution_count": 52,
   "id": "e23064bf",
   "metadata": {},
   "outputs": [
    {
     "data": {
      "text/html": [
       "<div>\n",
       "<style scoped>\n",
       "    .dataframe tbody tr th:only-of-type {\n",
       "        vertical-align: middle;\n",
       "    }\n",
       "\n",
       "    .dataframe tbody tr th {\n",
       "        vertical-align: top;\n",
       "    }\n",
       "\n",
       "    .dataframe thead th {\n",
       "        text-align: right;\n",
       "    }\n",
       "</style>\n",
       "<table border=\"1\" class=\"dataframe\">\n",
       "  <thead>\n",
       "    <tr style=\"text-align: right;\">\n",
       "      <th></th>\n",
       "      <th>Cement</th>\n",
       "      <th>Blast_Furnace_Slag</th>\n",
       "      <th>Fly_Ash</th>\n",
       "      <th>Water</th>\n",
       "      <th>Superplasticizer</th>\n",
       "      <th>Coarse_Aggregate</th>\n",
       "      <th>Fine_Aggregate</th>\n",
       "      <th>Age</th>\n",
       "      <th>Concrete_compressive_strength</th>\n",
       "    </tr>\n",
       "  </thead>\n",
       "  <tbody>\n",
       "    <tr>\n",
       "      <th>0</th>\n",
       "      <td>540.0</td>\n",
       "      <td>0.0</td>\n",
       "      <td>0.0</td>\n",
       "      <td>162.0</td>\n",
       "      <td>2.5</td>\n",
       "      <td>1040.0</td>\n",
       "      <td>676.0</td>\n",
       "      <td>28.0</td>\n",
       "      <td>79.99</td>\n",
       "    </tr>\n",
       "    <tr>\n",
       "      <th>1</th>\n",
       "      <td>540.0</td>\n",
       "      <td>0.0</td>\n",
       "      <td>0.0</td>\n",
       "      <td>162.0</td>\n",
       "      <td>2.5</td>\n",
       "      <td>1055.0</td>\n",
       "      <td>676.0</td>\n",
       "      <td>28.0</td>\n",
       "      <td>61.89</td>\n",
       "    </tr>\n",
       "    <tr>\n",
       "      <th>2</th>\n",
       "      <td>332.5</td>\n",
       "      <td>142.5</td>\n",
       "      <td>0.0</td>\n",
       "      <td>228.0</td>\n",
       "      <td>0.0</td>\n",
       "      <td>932.0</td>\n",
       "      <td>NaN</td>\n",
       "      <td>270.0</td>\n",
       "      <td>40.27</td>\n",
       "    </tr>\n",
       "    <tr>\n",
       "      <th>3</th>\n",
       "      <td>332.5</td>\n",
       "      <td>142.5</td>\n",
       "      <td>0.0</td>\n",
       "      <td>NaN</td>\n",
       "      <td>0.0</td>\n",
       "      <td>932.0</td>\n",
       "      <td>594.0</td>\n",
       "      <td>365.0</td>\n",
       "      <td>NaN</td>\n",
       "    </tr>\n",
       "    <tr>\n",
       "      <th>4</th>\n",
       "      <td>198.6</td>\n",
       "      <td>132.4</td>\n",
       "      <td>0.0</td>\n",
       "      <td>192.0</td>\n",
       "      <td>0.0</td>\n",
       "      <td>978.4</td>\n",
       "      <td>825.5</td>\n",
       "      <td>360.0</td>\n",
       "      <td>44.30</td>\n",
       "    </tr>\n",
       "  </tbody>\n",
       "</table>\n",
       "</div>"
      ],
      "text/plain": [
       "   Cement  Blast_Furnace_Slag  Fly_Ash  Water  Superplasticizer  \\\n",
       "0   540.0                 0.0      0.0  162.0               2.5   \n",
       "1   540.0                 0.0      0.0  162.0               2.5   \n",
       "2   332.5               142.5      0.0  228.0               0.0   \n",
       "3   332.5               142.5      0.0    NaN               0.0   \n",
       "4   198.6               132.4      0.0  192.0               0.0   \n",
       "\n",
       "   Coarse_Aggregate  Fine_Aggregate    Age  Concrete_compressive_strength  \n",
       "0            1040.0           676.0   28.0                          79.99  \n",
       "1            1055.0           676.0   28.0                          61.89  \n",
       "2             932.0             NaN  270.0                          40.27  \n",
       "3             932.0           594.0  365.0                            NaN  \n",
       "4             978.4           825.5  360.0                          44.30  "
      ]
     },
     "execution_count": 52,
     "metadata": {},
     "output_type": "execute_result"
    }
   ],
   "source": [
    "dataFrame=pd.read_csv(r'C:\\Users\\DELL\\Desktop\\Fall 2021\\Scientific Programming\\Concrete_Data.csv')\n",
    "dataFrame.head()"
   ]
  },
  {
   "cell_type": "markdown",
   "id": "768333b9",
   "metadata": {},
   "source": [
    "## 3. Data Preprocessing\n",
    "### Sum of Null Values\n",
    "The ***isnull*** function detects the null values while the ***sum*** function adds up all null values corresponding to a column."
   ]
  },
  {
   "cell_type": "code",
   "execution_count": 53,
   "id": "ad7d81b1",
   "metadata": {},
   "outputs": [
    {
     "data": {
      "text/plain": [
       "Cement                           2\n",
       "Blast_Furnace_Slag               2\n",
       "Fly_Ash                          2\n",
       "Water                            2\n",
       "Superplasticizer                 1\n",
       "Coarse_Aggregate                 2\n",
       "Fine_Aggregate                   2\n",
       "Age                              2\n",
       "Concrete_compressive_strength    2\n",
       "dtype: int64"
      ]
     },
     "execution_count": 53,
     "metadata": {},
     "output_type": "execute_result"
    }
   ],
   "source": [
    "dataFrame.isnull().sum()"
   ]
  },
  {
   "cell_type": "markdown",
   "id": "1c1d5663",
   "metadata": {},
   "source": [
    "### Median of Cement Column\n",
    "The **math** library is used to access the ***median*** function that is used to calcluate the middle value of cement column"
   ]
  },
  {
   "cell_type": "code",
   "execution_count": 54,
   "id": "94d4e34b",
   "metadata": {},
   "outputs": [
    {
     "data": {
      "text/plain": [
       "272"
      ]
     },
     "execution_count": 54,
     "metadata": {},
     "output_type": "execute_result"
    }
   ],
   "source": [
    "import math\n",
    "mdn=math.floor(dataFrame.Cement.median())\n",
    "mdn"
   ]
  },
  {
   "cell_type": "markdown",
   "id": "52817cf9",
   "metadata": {},
   "source": [
    "### Mean of Cement Column\n",
    "The **math** library is used to access the ***mean*** function that is used to calcluate the average of water column"
   ]
  },
  {
   "cell_type": "code",
   "execution_count": 55,
   "id": "a4d6a2f3",
   "metadata": {},
   "outputs": [
    {
     "data": {
      "text/plain": [
       "181"
      ]
     },
     "execution_count": 55,
     "metadata": {},
     "output_type": "execute_result"
    }
   ],
   "source": [
    "mn=math.floor(dataFrame.Water.mean())\n",
    "mn"
   ]
  },
  {
   "cell_type": "markdown",
   "id": "be089022",
   "metadata": {},
   "source": [
    "### Mode of Cement Column\n",
    "The **math** library is used to access the ***mode*** function that is used to calcluate the highest value of superplasticizer column"
   ]
  },
  {
   "cell_type": "code",
   "execution_count": 56,
   "id": "8f4015c6",
   "metadata": {},
   "outputs": [
    {
     "data": {
      "text/plain": [
       "0"
      ]
     },
     "execution_count": 56,
     "metadata": {},
     "output_type": "execute_result"
    }
   ],
   "source": [
    "md=math.floor(dataFrame.Superplasticizer.mode())\n",
    "md"
   ]
  },
  {
   "cell_type": "markdown",
   "id": "de27fea6",
   "metadata": {},
   "source": [
    "### Fill missing values (Cement)\n",
    "The median value found for cement column is used to replace all missing values in that (cement) column"
   ]
  },
  {
   "cell_type": "code",
   "execution_count": 57,
   "id": "c4f75a33",
   "metadata": {},
   "outputs": [
    {
     "data": {
      "text/html": [
       "<div>\n",
       "<style scoped>\n",
       "    .dataframe tbody tr th:only-of-type {\n",
       "        vertical-align: middle;\n",
       "    }\n",
       "\n",
       "    .dataframe tbody tr th {\n",
       "        vertical-align: top;\n",
       "    }\n",
       "\n",
       "    .dataframe thead th {\n",
       "        text-align: right;\n",
       "    }\n",
       "</style>\n",
       "<table border=\"1\" class=\"dataframe\">\n",
       "  <thead>\n",
       "    <tr style=\"text-align: right;\">\n",
       "      <th></th>\n",
       "      <th>Cement</th>\n",
       "      <th>Blast_Furnace_Slag</th>\n",
       "      <th>Fly_Ash</th>\n",
       "      <th>Water</th>\n",
       "      <th>Superplasticizer</th>\n",
       "      <th>Coarse_Aggregate</th>\n",
       "      <th>Fine_Aggregate</th>\n",
       "      <th>Age</th>\n",
       "      <th>Concrete_compressive_strength</th>\n",
       "    </tr>\n",
       "  </thead>\n",
       "  <tbody>\n",
       "    <tr>\n",
       "      <th>0</th>\n",
       "      <td>540.0</td>\n",
       "      <td>0.0</td>\n",
       "      <td>0.0</td>\n",
       "      <td>162.0</td>\n",
       "      <td>2.5</td>\n",
       "      <td>1040.0</td>\n",
       "      <td>676.0</td>\n",
       "      <td>28.0</td>\n",
       "      <td>79.99</td>\n",
       "    </tr>\n",
       "    <tr>\n",
       "      <th>1</th>\n",
       "      <td>540.0</td>\n",
       "      <td>0.0</td>\n",
       "      <td>0.0</td>\n",
       "      <td>162.0</td>\n",
       "      <td>2.5</td>\n",
       "      <td>1055.0</td>\n",
       "      <td>676.0</td>\n",
       "      <td>28.0</td>\n",
       "      <td>61.89</td>\n",
       "    </tr>\n",
       "    <tr>\n",
       "      <th>2</th>\n",
       "      <td>332.5</td>\n",
       "      <td>142.5</td>\n",
       "      <td>0.0</td>\n",
       "      <td>228.0</td>\n",
       "      <td>0.0</td>\n",
       "      <td>932.0</td>\n",
       "      <td>NaN</td>\n",
       "      <td>270.0</td>\n",
       "      <td>40.27</td>\n",
       "    </tr>\n",
       "    <tr>\n",
       "      <th>3</th>\n",
       "      <td>332.5</td>\n",
       "      <td>142.5</td>\n",
       "      <td>0.0</td>\n",
       "      <td>NaN</td>\n",
       "      <td>0.0</td>\n",
       "      <td>932.0</td>\n",
       "      <td>594.0</td>\n",
       "      <td>365.0</td>\n",
       "      <td>NaN</td>\n",
       "    </tr>\n",
       "    <tr>\n",
       "      <th>4</th>\n",
       "      <td>198.6</td>\n",
       "      <td>132.4</td>\n",
       "      <td>0.0</td>\n",
       "      <td>192.0</td>\n",
       "      <td>0.0</td>\n",
       "      <td>978.4</td>\n",
       "      <td>825.5</td>\n",
       "      <td>360.0</td>\n",
       "      <td>44.30</td>\n",
       "    </tr>\n",
       "    <tr>\n",
       "      <th>...</th>\n",
       "      <td>...</td>\n",
       "      <td>...</td>\n",
       "      <td>...</td>\n",
       "      <td>...</td>\n",
       "      <td>...</td>\n",
       "      <td>...</td>\n",
       "      <td>...</td>\n",
       "      <td>...</td>\n",
       "      <td>...</td>\n",
       "    </tr>\n",
       "    <tr>\n",
       "      <th>1025</th>\n",
       "      <td>276.4</td>\n",
       "      <td>116.0</td>\n",
       "      <td>90.3</td>\n",
       "      <td>179.6</td>\n",
       "      <td>8.9</td>\n",
       "      <td>870.1</td>\n",
       "      <td>768.3</td>\n",
       "      <td>28.0</td>\n",
       "      <td>44.28</td>\n",
       "    </tr>\n",
       "    <tr>\n",
       "      <th>1026</th>\n",
       "      <td>322.2</td>\n",
       "      <td>0.0</td>\n",
       "      <td>115.6</td>\n",
       "      <td>196.0</td>\n",
       "      <td>10.4</td>\n",
       "      <td>817.9</td>\n",
       "      <td>813.4</td>\n",
       "      <td>28.0</td>\n",
       "      <td>31.18</td>\n",
       "    </tr>\n",
       "    <tr>\n",
       "      <th>1027</th>\n",
       "      <td>148.5</td>\n",
       "      <td>139.4</td>\n",
       "      <td>108.6</td>\n",
       "      <td>192.7</td>\n",
       "      <td>6.1</td>\n",
       "      <td>892.4</td>\n",
       "      <td>780.0</td>\n",
       "      <td>28.0</td>\n",
       "      <td>23.70</td>\n",
       "    </tr>\n",
       "    <tr>\n",
       "      <th>1028</th>\n",
       "      <td>159.1</td>\n",
       "      <td>186.7</td>\n",
       "      <td>0.0</td>\n",
       "      <td>175.6</td>\n",
       "      <td>11.3</td>\n",
       "      <td>989.6</td>\n",
       "      <td>788.9</td>\n",
       "      <td>28.0</td>\n",
       "      <td>32.77</td>\n",
       "    </tr>\n",
       "    <tr>\n",
       "      <th>1029</th>\n",
       "      <td>260.9</td>\n",
       "      <td>100.5</td>\n",
       "      <td>78.3</td>\n",
       "      <td>200.6</td>\n",
       "      <td>8.6</td>\n",
       "      <td>864.5</td>\n",
       "      <td>761.5</td>\n",
       "      <td>28.0</td>\n",
       "      <td>32.40</td>\n",
       "    </tr>\n",
       "  </tbody>\n",
       "</table>\n",
       "<p>1030 rows × 9 columns</p>\n",
       "</div>"
      ],
      "text/plain": [
       "      Cement  Blast_Furnace_Slag  Fly_Ash  Water  Superplasticizer  \\\n",
       "0      540.0                 0.0      0.0  162.0               2.5   \n",
       "1      540.0                 0.0      0.0  162.0               2.5   \n",
       "2      332.5               142.5      0.0  228.0               0.0   \n",
       "3      332.5               142.5      0.0    NaN               0.0   \n",
       "4      198.6               132.4      0.0  192.0               0.0   \n",
       "...      ...                 ...      ...    ...               ...   \n",
       "1025   276.4               116.0     90.3  179.6               8.9   \n",
       "1026   322.2                 0.0    115.6  196.0              10.4   \n",
       "1027   148.5               139.4    108.6  192.7               6.1   \n",
       "1028   159.1               186.7      0.0  175.6              11.3   \n",
       "1029   260.9               100.5     78.3  200.6               8.6   \n",
       "\n",
       "      Coarse_Aggregate  Fine_Aggregate    Age  Concrete_compressive_strength  \n",
       "0               1040.0           676.0   28.0                          79.99  \n",
       "1               1055.0           676.0   28.0                          61.89  \n",
       "2                932.0             NaN  270.0                          40.27  \n",
       "3                932.0           594.0  365.0                            NaN  \n",
       "4                978.4           825.5  360.0                          44.30  \n",
       "...                ...             ...    ...                            ...  \n",
       "1025             870.1           768.3   28.0                          44.28  \n",
       "1026             817.9           813.4   28.0                          31.18  \n",
       "1027             892.4           780.0   28.0                          23.70  \n",
       "1028             989.6           788.9   28.0                          32.77  \n",
       "1029             864.5           761.5   28.0                          32.40  \n",
       "\n",
       "[1030 rows x 9 columns]"
      ]
     },
     "execution_count": 57,
     "metadata": {},
     "output_type": "execute_result"
    }
   ],
   "source": [
    "dataFrame.Cement=dataFrame.Cement.fillna(mdn)\n",
    "dataFrame"
   ]
  },
  {
   "cell_type": "markdown",
   "id": "88bbdf29",
   "metadata": {},
   "source": [
    "### Fill missing values (Water)\n",
    "The mean value found for water column is used to replace all missing values in that (water) column"
   ]
  },
  {
   "cell_type": "code",
   "execution_count": 58,
   "id": "b0c13ae5",
   "metadata": {},
   "outputs": [
    {
     "data": {
      "text/html": [
       "<div>\n",
       "<style scoped>\n",
       "    .dataframe tbody tr th:only-of-type {\n",
       "        vertical-align: middle;\n",
       "    }\n",
       "\n",
       "    .dataframe tbody tr th {\n",
       "        vertical-align: top;\n",
       "    }\n",
       "\n",
       "    .dataframe thead th {\n",
       "        text-align: right;\n",
       "    }\n",
       "</style>\n",
       "<table border=\"1\" class=\"dataframe\">\n",
       "  <thead>\n",
       "    <tr style=\"text-align: right;\">\n",
       "      <th></th>\n",
       "      <th>Cement</th>\n",
       "      <th>Blast_Furnace_Slag</th>\n",
       "      <th>Fly_Ash</th>\n",
       "      <th>Water</th>\n",
       "      <th>Superplasticizer</th>\n",
       "      <th>Coarse_Aggregate</th>\n",
       "      <th>Fine_Aggregate</th>\n",
       "      <th>Age</th>\n",
       "      <th>Concrete_compressive_strength</th>\n",
       "    </tr>\n",
       "  </thead>\n",
       "  <tbody>\n",
       "    <tr>\n",
       "      <th>0</th>\n",
       "      <td>540.0</td>\n",
       "      <td>0.0</td>\n",
       "      <td>0.0</td>\n",
       "      <td>162.0</td>\n",
       "      <td>2.5</td>\n",
       "      <td>1040.0</td>\n",
       "      <td>676.0</td>\n",
       "      <td>28.0</td>\n",
       "      <td>79.99</td>\n",
       "    </tr>\n",
       "    <tr>\n",
       "      <th>1</th>\n",
       "      <td>540.0</td>\n",
       "      <td>0.0</td>\n",
       "      <td>0.0</td>\n",
       "      <td>162.0</td>\n",
       "      <td>2.5</td>\n",
       "      <td>1055.0</td>\n",
       "      <td>676.0</td>\n",
       "      <td>28.0</td>\n",
       "      <td>61.89</td>\n",
       "    </tr>\n",
       "    <tr>\n",
       "      <th>2</th>\n",
       "      <td>332.5</td>\n",
       "      <td>142.5</td>\n",
       "      <td>0.0</td>\n",
       "      <td>228.0</td>\n",
       "      <td>0.0</td>\n",
       "      <td>932.0</td>\n",
       "      <td>NaN</td>\n",
       "      <td>270.0</td>\n",
       "      <td>40.27</td>\n",
       "    </tr>\n",
       "    <tr>\n",
       "      <th>3</th>\n",
       "      <td>332.5</td>\n",
       "      <td>142.5</td>\n",
       "      <td>0.0</td>\n",
       "      <td>181.0</td>\n",
       "      <td>0.0</td>\n",
       "      <td>932.0</td>\n",
       "      <td>594.0</td>\n",
       "      <td>365.0</td>\n",
       "      <td>NaN</td>\n",
       "    </tr>\n",
       "    <tr>\n",
       "      <th>4</th>\n",
       "      <td>198.6</td>\n",
       "      <td>132.4</td>\n",
       "      <td>0.0</td>\n",
       "      <td>192.0</td>\n",
       "      <td>0.0</td>\n",
       "      <td>978.4</td>\n",
       "      <td>825.5</td>\n",
       "      <td>360.0</td>\n",
       "      <td>44.30</td>\n",
       "    </tr>\n",
       "    <tr>\n",
       "      <th>...</th>\n",
       "      <td>...</td>\n",
       "      <td>...</td>\n",
       "      <td>...</td>\n",
       "      <td>...</td>\n",
       "      <td>...</td>\n",
       "      <td>...</td>\n",
       "      <td>...</td>\n",
       "      <td>...</td>\n",
       "      <td>...</td>\n",
       "    </tr>\n",
       "    <tr>\n",
       "      <th>1025</th>\n",
       "      <td>276.4</td>\n",
       "      <td>116.0</td>\n",
       "      <td>90.3</td>\n",
       "      <td>179.6</td>\n",
       "      <td>8.9</td>\n",
       "      <td>870.1</td>\n",
       "      <td>768.3</td>\n",
       "      <td>28.0</td>\n",
       "      <td>44.28</td>\n",
       "    </tr>\n",
       "    <tr>\n",
       "      <th>1026</th>\n",
       "      <td>322.2</td>\n",
       "      <td>0.0</td>\n",
       "      <td>115.6</td>\n",
       "      <td>196.0</td>\n",
       "      <td>10.4</td>\n",
       "      <td>817.9</td>\n",
       "      <td>813.4</td>\n",
       "      <td>28.0</td>\n",
       "      <td>31.18</td>\n",
       "    </tr>\n",
       "    <tr>\n",
       "      <th>1027</th>\n",
       "      <td>148.5</td>\n",
       "      <td>139.4</td>\n",
       "      <td>108.6</td>\n",
       "      <td>192.7</td>\n",
       "      <td>6.1</td>\n",
       "      <td>892.4</td>\n",
       "      <td>780.0</td>\n",
       "      <td>28.0</td>\n",
       "      <td>23.70</td>\n",
       "    </tr>\n",
       "    <tr>\n",
       "      <th>1028</th>\n",
       "      <td>159.1</td>\n",
       "      <td>186.7</td>\n",
       "      <td>0.0</td>\n",
       "      <td>175.6</td>\n",
       "      <td>11.3</td>\n",
       "      <td>989.6</td>\n",
       "      <td>788.9</td>\n",
       "      <td>28.0</td>\n",
       "      <td>32.77</td>\n",
       "    </tr>\n",
       "    <tr>\n",
       "      <th>1029</th>\n",
       "      <td>260.9</td>\n",
       "      <td>100.5</td>\n",
       "      <td>78.3</td>\n",
       "      <td>200.6</td>\n",
       "      <td>8.6</td>\n",
       "      <td>864.5</td>\n",
       "      <td>761.5</td>\n",
       "      <td>28.0</td>\n",
       "      <td>32.40</td>\n",
       "    </tr>\n",
       "  </tbody>\n",
       "</table>\n",
       "<p>1030 rows × 9 columns</p>\n",
       "</div>"
      ],
      "text/plain": [
       "      Cement  Blast_Furnace_Slag  Fly_Ash  Water  Superplasticizer  \\\n",
       "0      540.0                 0.0      0.0  162.0               2.5   \n",
       "1      540.0                 0.0      0.0  162.0               2.5   \n",
       "2      332.5               142.5      0.0  228.0               0.0   \n",
       "3      332.5               142.5      0.0  181.0               0.0   \n",
       "4      198.6               132.4      0.0  192.0               0.0   \n",
       "...      ...                 ...      ...    ...               ...   \n",
       "1025   276.4               116.0     90.3  179.6               8.9   \n",
       "1026   322.2                 0.0    115.6  196.0              10.4   \n",
       "1027   148.5               139.4    108.6  192.7               6.1   \n",
       "1028   159.1               186.7      0.0  175.6              11.3   \n",
       "1029   260.9               100.5     78.3  200.6               8.6   \n",
       "\n",
       "      Coarse_Aggregate  Fine_Aggregate    Age  Concrete_compressive_strength  \n",
       "0               1040.0           676.0   28.0                          79.99  \n",
       "1               1055.0           676.0   28.0                          61.89  \n",
       "2                932.0             NaN  270.0                          40.27  \n",
       "3                932.0           594.0  365.0                            NaN  \n",
       "4                978.4           825.5  360.0                          44.30  \n",
       "...                ...             ...    ...                            ...  \n",
       "1025             870.1           768.3   28.0                          44.28  \n",
       "1026             817.9           813.4   28.0                          31.18  \n",
       "1027             892.4           780.0   28.0                          23.70  \n",
       "1028             989.6           788.9   28.0                          32.77  \n",
       "1029             864.5           761.5   28.0                          32.40  \n",
       "\n",
       "[1030 rows x 9 columns]"
      ]
     },
     "execution_count": 58,
     "metadata": {},
     "output_type": "execute_result"
    }
   ],
   "source": [
    "dataFrame.Water=dataFrame.Water.fillna(mn)\n",
    "dataFrame"
   ]
  },
  {
   "cell_type": "markdown",
   "id": "85d63e80",
   "metadata": {},
   "source": [
    "### Fill missing values (Superplasticizer)\n",
    "The mode value found for Superplasticizer column is used to replace all missing values in that (Superplasticizer) column"
   ]
  },
  {
   "cell_type": "code",
   "execution_count": 59,
   "id": "088c0707",
   "metadata": {},
   "outputs": [
    {
     "data": {
      "text/html": [
       "<div>\n",
       "<style scoped>\n",
       "    .dataframe tbody tr th:only-of-type {\n",
       "        vertical-align: middle;\n",
       "    }\n",
       "\n",
       "    .dataframe tbody tr th {\n",
       "        vertical-align: top;\n",
       "    }\n",
       "\n",
       "    .dataframe thead th {\n",
       "        text-align: right;\n",
       "    }\n",
       "</style>\n",
       "<table border=\"1\" class=\"dataframe\">\n",
       "  <thead>\n",
       "    <tr style=\"text-align: right;\">\n",
       "      <th></th>\n",
       "      <th>Cement</th>\n",
       "      <th>Blast_Furnace_Slag</th>\n",
       "      <th>Fly_Ash</th>\n",
       "      <th>Water</th>\n",
       "      <th>Superplasticizer</th>\n",
       "      <th>Coarse_Aggregate</th>\n",
       "      <th>Fine_Aggregate</th>\n",
       "      <th>Age</th>\n",
       "      <th>Concrete_compressive_strength</th>\n",
       "    </tr>\n",
       "  </thead>\n",
       "  <tbody>\n",
       "    <tr>\n",
       "      <th>0</th>\n",
       "      <td>540.0</td>\n",
       "      <td>0.0</td>\n",
       "      <td>0.0</td>\n",
       "      <td>162.0</td>\n",
       "      <td>2.5</td>\n",
       "      <td>1040.0</td>\n",
       "      <td>676.0</td>\n",
       "      <td>2.5</td>\n",
       "      <td>79.99</td>\n",
       "    </tr>\n",
       "    <tr>\n",
       "      <th>1</th>\n",
       "      <td>540.0</td>\n",
       "      <td>0.0</td>\n",
       "      <td>0.0</td>\n",
       "      <td>162.0</td>\n",
       "      <td>2.5</td>\n",
       "      <td>1055.0</td>\n",
       "      <td>676.0</td>\n",
       "      <td>2.5</td>\n",
       "      <td>61.89</td>\n",
       "    </tr>\n",
       "    <tr>\n",
       "      <th>2</th>\n",
       "      <td>332.5</td>\n",
       "      <td>142.5</td>\n",
       "      <td>0.0</td>\n",
       "      <td>228.0</td>\n",
       "      <td>0.0</td>\n",
       "      <td>932.0</td>\n",
       "      <td>NaN</td>\n",
       "      <td>0.0</td>\n",
       "      <td>40.27</td>\n",
       "    </tr>\n",
       "    <tr>\n",
       "      <th>3</th>\n",
       "      <td>332.5</td>\n",
       "      <td>142.5</td>\n",
       "      <td>0.0</td>\n",
       "      <td>181.0</td>\n",
       "      <td>0.0</td>\n",
       "      <td>932.0</td>\n",
       "      <td>594.0</td>\n",
       "      <td>0.0</td>\n",
       "      <td>NaN</td>\n",
       "    </tr>\n",
       "    <tr>\n",
       "      <th>4</th>\n",
       "      <td>198.6</td>\n",
       "      <td>132.4</td>\n",
       "      <td>0.0</td>\n",
       "      <td>192.0</td>\n",
       "      <td>0.0</td>\n",
       "      <td>978.4</td>\n",
       "      <td>825.5</td>\n",
       "      <td>0.0</td>\n",
       "      <td>44.30</td>\n",
       "    </tr>\n",
       "    <tr>\n",
       "      <th>...</th>\n",
       "      <td>...</td>\n",
       "      <td>...</td>\n",
       "      <td>...</td>\n",
       "      <td>...</td>\n",
       "      <td>...</td>\n",
       "      <td>...</td>\n",
       "      <td>...</td>\n",
       "      <td>...</td>\n",
       "      <td>...</td>\n",
       "    </tr>\n",
       "    <tr>\n",
       "      <th>1025</th>\n",
       "      <td>276.4</td>\n",
       "      <td>116.0</td>\n",
       "      <td>90.3</td>\n",
       "      <td>179.6</td>\n",
       "      <td>8.9</td>\n",
       "      <td>870.1</td>\n",
       "      <td>768.3</td>\n",
       "      <td>8.9</td>\n",
       "      <td>44.28</td>\n",
       "    </tr>\n",
       "    <tr>\n",
       "      <th>1026</th>\n",
       "      <td>322.2</td>\n",
       "      <td>0.0</td>\n",
       "      <td>115.6</td>\n",
       "      <td>196.0</td>\n",
       "      <td>10.4</td>\n",
       "      <td>817.9</td>\n",
       "      <td>813.4</td>\n",
       "      <td>10.4</td>\n",
       "      <td>31.18</td>\n",
       "    </tr>\n",
       "    <tr>\n",
       "      <th>1027</th>\n",
       "      <td>148.5</td>\n",
       "      <td>139.4</td>\n",
       "      <td>108.6</td>\n",
       "      <td>192.7</td>\n",
       "      <td>6.1</td>\n",
       "      <td>892.4</td>\n",
       "      <td>780.0</td>\n",
       "      <td>6.1</td>\n",
       "      <td>23.70</td>\n",
       "    </tr>\n",
       "    <tr>\n",
       "      <th>1028</th>\n",
       "      <td>159.1</td>\n",
       "      <td>186.7</td>\n",
       "      <td>0.0</td>\n",
       "      <td>175.6</td>\n",
       "      <td>11.3</td>\n",
       "      <td>989.6</td>\n",
       "      <td>788.9</td>\n",
       "      <td>11.3</td>\n",
       "      <td>32.77</td>\n",
       "    </tr>\n",
       "    <tr>\n",
       "      <th>1029</th>\n",
       "      <td>260.9</td>\n",
       "      <td>100.5</td>\n",
       "      <td>78.3</td>\n",
       "      <td>200.6</td>\n",
       "      <td>8.6</td>\n",
       "      <td>864.5</td>\n",
       "      <td>761.5</td>\n",
       "      <td>8.6</td>\n",
       "      <td>32.40</td>\n",
       "    </tr>\n",
       "  </tbody>\n",
       "</table>\n",
       "<p>1030 rows × 9 columns</p>\n",
       "</div>"
      ],
      "text/plain": [
       "      Cement  Blast_Furnace_Slag  Fly_Ash  Water  Superplasticizer  \\\n",
       "0      540.0                 0.0      0.0  162.0               2.5   \n",
       "1      540.0                 0.0      0.0  162.0               2.5   \n",
       "2      332.5               142.5      0.0  228.0               0.0   \n",
       "3      332.5               142.5      0.0  181.0               0.0   \n",
       "4      198.6               132.4      0.0  192.0               0.0   \n",
       "...      ...                 ...      ...    ...               ...   \n",
       "1025   276.4               116.0     90.3  179.6               8.9   \n",
       "1026   322.2                 0.0    115.6  196.0              10.4   \n",
       "1027   148.5               139.4    108.6  192.7               6.1   \n",
       "1028   159.1               186.7      0.0  175.6              11.3   \n",
       "1029   260.9               100.5     78.3  200.6               8.6   \n",
       "\n",
       "      Coarse_Aggregate  Fine_Aggregate   Age  Concrete_compressive_strength  \n",
       "0               1040.0           676.0   2.5                          79.99  \n",
       "1               1055.0           676.0   2.5                          61.89  \n",
       "2                932.0             NaN   0.0                          40.27  \n",
       "3                932.0           594.0   0.0                            NaN  \n",
       "4                978.4           825.5   0.0                          44.30  \n",
       "...                ...             ...   ...                            ...  \n",
       "1025             870.1           768.3   8.9                          44.28  \n",
       "1026             817.9           813.4  10.4                          31.18  \n",
       "1027             892.4           780.0   6.1                          23.70  \n",
       "1028             989.6           788.9  11.3                          32.77  \n",
       "1029             864.5           761.5   8.6                          32.40  \n",
       "\n",
       "[1030 rows x 9 columns]"
      ]
     },
     "execution_count": 59,
     "metadata": {},
     "output_type": "execute_result"
    }
   ],
   "source": [
    "dataFrame.Age=dataFrame.Superplasticizer.fillna(md)\n",
    "dataFrame"
   ]
  },
  {
   "cell_type": "markdown",
   "id": "a14285ff",
   "metadata": {},
   "source": [
    "### Sum of Null Values (Checking)\n",
    "Apart from cement, superplasticizer and water columns the rest of the coloumns still contain missing values."
   ]
  },
  {
   "cell_type": "code",
   "execution_count": 60,
   "id": "9cf9536a",
   "metadata": {},
   "outputs": [
    {
     "data": {
      "text/plain": [
       "Cement                           0\n",
       "Blast_Furnace_Slag               2\n",
       "Fly_Ash                          2\n",
       "Water                            0\n",
       "Superplasticizer                 1\n",
       "Coarse_Aggregate                 2\n",
       "Fine_Aggregate                   2\n",
       "Age                              0\n",
       "Concrete_compressive_strength    2\n",
       "dtype: int64"
      ]
     },
     "execution_count": 60,
     "metadata": {},
     "output_type": "execute_result"
    }
   ],
   "source": [
    "dataFrame.isnull().sum()"
   ]
  },
  {
   "cell_type": "markdown",
   "id": "131865ff",
   "metadata": {},
   "source": [
    "### Eliminate Missing Values\n",
    "The ***dropna*** function is used to delete rows with missing values"
   ]
  },
  {
   "cell_type": "code",
   "execution_count": 61,
   "id": "ce7792b7",
   "metadata": {},
   "outputs": [],
   "source": [
    "dataFrame=dataFrame.dropna()"
   ]
  },
  {
   "cell_type": "markdown",
   "id": "ca01f808",
   "metadata": {},
   "source": [
    "### Sum of Null Values (Final check)\n",
    "Now all columns do not contain any missing values"
   ]
  },
  {
   "cell_type": "code",
   "execution_count": 62,
   "id": "27a4ee5e",
   "metadata": {},
   "outputs": [
    {
     "data": {
      "text/plain": [
       "Cement                           0\n",
       "Blast_Furnace_Slag               0\n",
       "Fly_Ash                          0\n",
       "Water                            0\n",
       "Superplasticizer                 0\n",
       "Coarse_Aggregate                 0\n",
       "Fine_Aggregate                   0\n",
       "Age                              0\n",
       "Concrete_compressive_strength    0\n",
       "dtype: int64"
      ]
     },
     "execution_count": 62,
     "metadata": {},
     "output_type": "execute_result"
    }
   ],
   "source": [
    "dataFrame.isnull().sum()"
   ]
  },
  {
   "cell_type": "markdown",
   "id": "79ef3ab7",
   "metadata": {},
   "source": [
    "## 4. Exploratory Data Analysis\n",
    "### Correlation Matrix\n",
    "1. it is observed that cement has the strongest relation with concrete strength \n",
    "2. superplasticizer has positive correlation of 0.366 which is second highest. \n",
    "3. Lastly, age has least positive correlation with concrete strength. "
   ]
  },
  {
   "cell_type": "code",
   "execution_count": 63,
   "id": "df48a9ba",
   "metadata": {},
   "outputs": [
    {
     "name": "stdout",
     "output_type": "stream",
     "text": [
      "Pearson correlation coefficient matrix of each variables:\n",
      "                                  Cement     Water  Superplasticizer  \\\n",
      "Cement                         1.000000 -0.093098          0.096701   \n",
      "Water                         -0.093098  1.000000         -0.654712   \n",
      "Superplasticizer               0.096701 -0.654712          1.000000   \n",
      "Coarse_Aggregate              -0.106352 -0.177399         -0.271020   \n",
      "Fine_Aggregate                -0.215689 -0.433252          0.211922   \n",
      "Age                            0.096701 -0.654712          1.000000   \n",
      "Concrete_compressive_strength  0.499432 -0.303561          0.372221   \n",
      "\n",
      "                               Coarse_Aggregate  Fine_Aggregate       Age  \\\n",
      "Cement                                -0.106352       -0.215689  0.096701   \n",
      "Water                                 -0.177399       -0.433252 -0.654712   \n",
      "Superplasticizer                      -0.271020        0.211922  1.000000   \n",
      "Coarse_Aggregate                       1.000000       -0.189736 -0.271020   \n",
      "Fine_Aggregate                        -0.189736        1.000000  0.211922   \n",
      "Age                                   -0.271020        0.211922  1.000000   \n",
      "Concrete_compressive_strength         -0.163704       -0.164027  0.372221   \n",
      "\n",
      "                               Concrete_compressive_strength  \n",
      "Cement                                              0.499432  \n",
      "Water                                              -0.303561  \n",
      "Superplasticizer                                    0.372221  \n",
      "Coarse_Aggregate                                   -0.163704  \n",
      "Fine_Aggregate                                     -0.164027  \n",
      "Age                                                 0.372221  \n",
      "Concrete_compressive_strength                       1.000000  \n"
     ]
    },
    {
     "data": {
      "image/png": "[encoded data removed]",
      "text/plain": [
       "<Figure size 288x216 with 2 Axes>"
      ]
     },
     "metadata": {
      "needs_background": "light"
     },
     "output_type": "display_data"
    }
   ],
   "source": [
    "import seaborn as sns\n",
    "corrl = dataFrame[['Cement','Water','Superplasticizer','Coarse_Aggregate','Fine_Aggregate','Age','Concrete_compressive_strength']].corr()\n",
    "print('Pearson correlation coefficient matrix of each variables:\\n', corrl)\n",
    "msk = np.zeros_like(corrl, dtype=bool)\n",
    "np.fill_diagonal(msk, val=True)\n",
    "fig, axis = plt.subplots(figsize=(4, 3))\n",
    "corrmap = sns.diverging_palette(220, 10, as_cmap=True, sep=100)\n",
    "corrmap.set_bad('grey')\n",
    "sns.heatmap(corrl, mask=msk, cmap=corrmap, vmin=-1, vmax=1, center=0, linewidths=.5)\n",
    "fig.suptitle('Pearson correlation coefficient matrix', fontsize=14)\n",
    "axis.tick_params(axis='both', which='major', labelsize=10)"
   ]
  },
  {
   "cell_type": "markdown",
   "id": "2a7894ce",
   "metadata": {},
   "source": [
    "### Scatter Plot\n",
    "- Four scatterplots given from which each scatter plot shows relation between concrete strength vs cement/age/water/superplasticizer \n",
    "- The first plot shows relation of CCS with cement, the relation is linearly strong (positive) \n",
    "- The second plot shows relation of CCS and water, the linear relation is weak\n",
    "- Relation between CCS and water shows undefined slope (3rd plot)\n",
    "- The relation between CCS and superplasticizer which shows a weak positive linear relation (4th plot)"
   ]
  },
  {
   "cell_type": "code",
   "execution_count": 64,
   "id": "929d2dae",
   "metadata": {},
   "outputs": [
    {
     "data": {
      "text/plain": [
       "<matplotlib.collections.PathCollection at 0x1dc06993160>"
      ]
     },
     "execution_count": 64,
     "metadata": {},
     "output_type": "execute_result"
    },
    {
     "data": {
      "image/png": "[encoded data removed]",
      "text/plain": [
       "<Figure size 432x288 with 4 Axes>"
      ]
     },
     "metadata": {
      "needs_background": "light"
     },
     "output_type": "display_data"
    }
   ],
   "source": [
    "independent_variables = ['Cement','Water','Superplasticizer','Coarse_Aggregate','Fine_Aggregate','Age']\n",
    "M = dataFrame[independent_variables]\n",
    "N = dataFrame.Concrete_compressive_strength\n",
    "plt.subplot(2,2,1)\n",
    "plt.scatter(M['Cement'],N)\n",
    "plt.subplot(2,2,2)\n",
    "plt.scatter(M['Water'],N)\n",
    "plt.subplot(2,2,3)\n",
    "plt.scatter(M['Age'],N)\n",
    "plt.subplot(2,2,4)\n",
    "plt.scatter(M['Superplasticizer'],N)"
   ]
  },
  {
   "cell_type": "markdown",
   "id": "63f2b0ae",
   "metadata": {},
   "source": [
    "### 3D Scatter Plot\n",
    "- The plot shows the relation between concrete strength, fine and coarse aggregate\n",
    "- The points show a negative linear relation between CA, FA, and CCS"
   ]
  },
  {
   "cell_type": "code",
   "execution_count": 65,
   "id": "617f5d24",
   "metadata": {},
   "outputs": [
    {
     "data": {
      "text/plain": [
       "Text(0.5, 0, 'Concrete_compressive_strength')"
      ]
     },
     "execution_count": 65,
     "metadata": {},
     "output_type": "execute_result"
    },
    {
     "data": {
      "image/png": "[encoded data removed]",
      "text/plain": [
       "<Figure size 432x288 with 1 Axes>"
      ]
     },
     "metadata": {
      "needs_background": "light"
     },
     "output_type": "display_data"
    }
   ],
   "source": [
    "from mpl_toolkits.mplot3d import Axes3D\n",
    "figr = plt.figure()\n",
    "axs = figr.add_subplot(111, projection='3d')\n",
    "m1 = M[\"Coarse_Aggregate\"]\n",
    "m2 = M[\"Fine_Aggregate\"]\n",
    "axs.scatter(m1, m2, N, c='r', marker='o')\n",
    "axs.set_xlabel('Course_Aggregate')\n",
    "axs.set_ylabel('Fine_Aggregate')\n",
    "axs.set_zlabel('Concrete_compressive_strength')"
   ]
  },
  {
   "cell_type": "markdown",
   "id": "a372aa43",
   "metadata": {},
   "source": [
    "## 5. Data Transformation\n",
    "### Storing Data\n",
    "The ***target variable*** is stored in variable **N** while other features are stored in variable **M**"
   ]
  },
  {
   "cell_type": "code",
   "execution_count": 66,
   "id": "1d778d8e",
   "metadata": {},
   "outputs": [],
   "source": [
    "N=dataFrame.iloc[:,8]\n",
    "M=dataFrame.iloc[:,0:7]"
   ]
  },
  {
   "cell_type": "markdown",
   "id": "c3a84e4d",
   "metadata": {},
   "source": [
    "### Data Split\n",
    "The data is split into training and testing set. The training set is used to train the model while the testing set is used to examine the model for efficiency."
   ]
  },
  {
   "cell_type": "code",
   "execution_count": 67,
   "id": "6e2f9662",
   "metadata": {},
   "outputs": [],
   "source": [
    "from sklearn.model_selection import train_test_split\n",
    "M_train, M_test, N_train, N_test = train_test_split(M, N, test_size = 0.10, random_state = 0)"
   ]
  },
  {
   "cell_type": "markdown",
   "id": "77c33158",
   "metadata": {},
   "source": [
    "### Standard scaling\n",
    "All high range data is transformed to low range for smooth analysis and pattern finding."
   ]
  },
  {
   "cell_type": "code",
   "execution_count": 68,
   "id": "a327432b",
   "metadata": {},
   "outputs": [
    {
     "data": {
      "text/plain": [
       "StandardScaler()"
      ]
     },
     "execution_count": 68,
     "metadata": {},
     "output_type": "execute_result"
    }
   ],
   "source": [
    "scaler = StandardScaler()\n",
    "scaler.fit(M_train)\n",
    "scaler.fit(M_test)"
   ]
  },
  {
   "cell_type": "markdown",
   "id": "0a51c26b",
   "metadata": {},
   "source": [
    "## 6. Build Regression Model\n",
    "### Multiple LR Model (Multiple Linear Regression)\n",
    "Multiple LR model is trained using the training set"
   ]
  },
  {
   "cell_type": "code",
   "execution_count": 69,
   "id": "b5dbb5eb",
   "metadata": {},
   "outputs": [],
   "source": [
    "rg = LinearRegression()\n",
    "mdl=rg.fit(M_train,N_train)"
   ]
  },
  {
   "cell_type": "markdown",
   "id": "52f48276",
   "metadata": {},
   "source": [
    "### Prediction on Test Data\n",
    "This is done by calculating the absolute errors along with calculation of mean in two decimal place"
   ]
  },
  {
   "cell_type": "code",
   "execution_count": 70,
   "id": "d357cbe7",
   "metadata": {},
   "outputs": [
    {
     "name": "stdout",
     "output_type": "stream",
     "text": [
      "Mean Absolute Error: 8.16 degrees.\n"
     ]
    }
   ],
   "source": [
    "predictions = rg.predict(M_test)\n",
    "errors = abs(predictions - N_test)\n",
    "print('Mean Absolute Error:', round(np.mean(errors), 2), 'degrees.')"
   ]
  },
  {
   "cell_type": "markdown",
   "id": "d7dce00e",
   "metadata": {},
   "source": [
    "### Calculating Accuracy\n",
    "This is done by calculating the mean absolute percentage from which accuracy is calculated by subtracting 100 from mean of MAPE"
   ]
  },
  {
   "cell_type": "code",
   "execution_count": 71,
   "id": "2c332d5a",
   "metadata": {},
   "outputs": [
    {
     "name": "stdout",
     "output_type": "stream",
     "text": [
      "Accuracy: 68.21 %.\n"
     ]
    }
   ],
   "source": [
    "# Calculate mean absolute percentage error (MAPE)\n",
    "mape = 100 * (errors / N_test)\n",
    "# Calculate and display accuracy\n",
    "accuracy = 100 - np.mean(mape)\n",
    "print('Accuracy:', round(accuracy, 2), '%.')"
   ]
  },
  {
   "cell_type": "code",
   "execution_count": null,
   "id": "8e00b0f6",
   "metadata": {},
   "outputs": [],
   "source": []
  }
 ],
 "metadata": {
  "kernelspec": {
   "display_name": "Python 3",
   "language": "python",
   "name": "python3"
  },
  "language_info": {
   "codemirror_mode": {
    "name": "ipython",
    "version": 3
   },
   "file_extension": ".py",
   "mimetype": "text/x-python",
   "name": "python",
   "nbconvert_exporter": "python",
   "pygments_lexer": "ipython3",
   "version": "3.8.8"
  }
 },
 "nbformat": 4,
 "nbformat_minor": 5
}
